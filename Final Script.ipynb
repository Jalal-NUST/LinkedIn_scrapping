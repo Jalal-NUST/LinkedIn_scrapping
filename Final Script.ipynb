{
 "cells": [
  {
   "cell_type": "code",
   "execution_count": 1,
   "metadata": {},
   "outputs": [],
   "source": [
    "import requests,time,random\n",
    "from bs4 import BeautifulSoup\n",
    "from selenium import webdriver\n",
    "import pandas as pd"
   ]
  },
  {
   "cell_type": "code",
   "execution_count": 2,
   "metadata": {},
   "outputs": [],
   "source": [
    "def search_url(key):\n",
    "    prefix = 'https://www.linkedin.com/search/results/companies/?keywords='\n",
    "    space = '%20'\n",
    "    suffix = '&origin=SWITCH_SEARCH_VERTICAL'\n",
    "    key = key.strip()\n",
    "    if ' ' in key:\n",
    "        mid = key.replace(' ', space)\n",
    "        final_url = prefix + mid + suffix\n",
    "    else:\n",
    "        final_url = prefix + key + suffix\n",
    "    return final_url"
   ]
  },
  {
   "cell_type": "code",
   "execution_count": 3,
   "metadata": {},
   "outputs": [],
   "source": [
    "wait = 3   # increase the value if internet is slow\n",
    "browser = webdriver.Chrome('C:\\\\Webdriver\\\\chromedriver.exe')\n",
    "browser.get('https://www.linkedin.com/login')\n",
    "file = open('D:\\\\FreeLancer projects\\\\LinkDin Scraping\\\\config.txt')\n",
    "lines = file.readlines()\n",
    "user = lines[0]\n",
    "paswd = lines[1]\n",
    "\n",
    "elementID = browser.find_element_by_id('username')\n",
    "elementID.send_keys(user)\n",
    "elementID = browser.find_element_by_id('password')\n",
    "elementID.send_keys(paswd)\n",
    "\n",
    "elementID.submit()\n",
    "time.sleep(wait)\n",
    "\n"
   ]
  },
  {
   "cell_type": "code",
   "execution_count": 4,
   "metadata": {},
   "outputs": [],
   "source": [
    "source_file = pd.read_excel('D:\\\\FreeLancer projects\\\\LinkDin Scraping\\\\Companies sample.xlsx', index_col=0)"
   ]
  },
  {
   "cell_type": "code",
   "execution_count": 5,
   "metadata": {},
   "outputs": [
    {
     "name": "stdout",
     "output_type": "stream",
     "text": [
      "General Electric\n",
      "Scrapping Data from  ---> https://www.linkedin.com/company/ge/about/\n",
      "Horizon Yacht\n",
      "Scrapping Data from  ---> https://www.linkedin.com/company/horizonyachtusa/about/\n",
      "Ingram Industries\n",
      "Scrapping Data from  ---> https://www.linkedin.com/company/ingram-industries/about/\n",
      "Civista Bank\n",
      "Scrapping Data from  ---> https://www.linkedin.com/company/civista-bank/about/\n",
      "Credit Suisse\n",
      "Scrapping Data from  ---> https://www.linkedin.com/company/credit-suisse/about/\n",
      "Percolata\n",
      "Scrapping Data from  ---> https://www.linkedin.com/company/percolata/about/\n",
      "Eagle Marine\n",
      "Scrapping Data from  ---> https://www.linkedin.com/company/eagle-marine-services/about/\n",
      "WorkSmart Contracts\n",
      "Scrapping Data from  ---> https://www.linkedin.com/company/worksmart-contracts/about/\n",
      "Intermarine\n",
      "Scrapping Data from  ---> https://www.linkedin.com/company/intermarine/about/\n",
      "Garcha Hotels\n",
      "Scrapping Data from  ---> https://www.linkedin.com/company/theduxtonclub/about/\n"
     ]
    }
   ],
   "source": [
    "#new combined cell\n",
    "data_new= pd.DataFrame(columns= ['Description','Company size','Founded','Headquarters','Industry','Specialties','Type','Website','Phone'])\n",
    "for i in source_file['Column C']:\n",
    "    print(i)\n",
    "    i=str(i)\n",
    "    dic_new={}\n",
    "    dic_new['Company Name'] = i\n",
    "    link = search_url(i)\n",
    "    browser.get(link)\n",
    "    scroll_pause_time = wait\n",
    "    #get scroll height\n",
    "    scroll_height= browser.execute_script('return document.body.scrollHeight')\n",
    "    for i in range(3):\n",
    "        browser.execute_script('window.scrollTo(0,document.body.scrollHeight)')\n",
    "        time.sleep(scroll_pause_time)\n",
    "        new_height = browser.execute_script('return document.body.scrollHeight')\n",
    "        if new_height== scroll_height:\n",
    "            break\n",
    "        scroll_height = new_height\n",
    "    src = browser.page_source\n",
    "    soup = BeautifulSoup(src,'lxml')\n",
    "    first_url = soup.find('div',{'class':'scale-down ember-view'})\n",
    "    links = [first_url['href'] if first_url.get('href') is not None else first_url['src'] for first_url in first_url.select('[href^=\"http\"], [src^=\"http\"]') ]\n",
    "    required_link = links[0]+ 'about/'\n",
    "    print('Scrapping Data from  --->', required_link)\n",
    "    browser.get(required_link)\n",
    "    scroll_pause_time = 5\n",
    "\n",
    "    scroll_height= browser.execute_script('return document.body.scrollHeight')\n",
    "    for i in range(3):\n",
    "        browser.execute_script('window.scrollTo(0,document.body.scrollHeight)')\n",
    "        time.sleep(scroll_pause_time)\n",
    "        new_height = browser.execute_script('return document.body.scrollHeight')\n",
    "        if new_height== scroll_height:\n",
    "            break\n",
    "        scroll_height = new_height\n",
    "    src = browser.page_source\n",
    "    soup = BeautifulSoup(src,'lxml')\n",
    "    info = soup.find('p',{'class':'break-words white-space-pre-wrap mb5 t-14 t-black--light t-normal'})\n",
    "    Description = info.get_text().strip()\n",
    "    dic_new['Description']= Description\n",
    "    collective = soup.find('dl',{'class':'overflow-hidden'})\n",
    "    industry_loc= collective.find_all('dt')\n",
    "    industry_loc2= collective.find_all('dd')\n",
    "    total= len(industry_loc)\n",
    "    \n",
    "    for i in range(len(industry_loc)):\n",
    "        if industry_loc[i].get_text().strip() == 'Website':\n",
    "            dic_new['Website']= industry_loc2[i].get_text().strip()\n",
    "        elif industry_loc[i].get_text().strip() == 'Industry':\n",
    "            dic_new['Industry']= industry_loc2[i].get_text().strip()\n",
    "        elif industry_loc[i].get_text().strip() == 'Company size':\n",
    "            dic_new['Company size']= industry_loc2[i].get_text().strip()\n",
    "        elif industry_loc[i].get_text().strip() == 'Headquarters':\n",
    "            dic_new['Headquarters']= industry_loc2[i+1].get_text().strip()\n",
    "        elif industry_loc[i].get_text().strip() == 'Type':\n",
    "            dic_new['Type']= industry_loc2[i+1].get_text().strip()\n",
    "        elif industry_loc[i].get_text().strip() == 'Founded':\n",
    "            dic_new['Founded']= industry_loc2[i+1].get_text().strip()\n",
    "        elif industry_loc[i].get_text().strip() == 'Specialties':\n",
    "            dic_new['Specialties']= industry_loc2[i+1].get_text().strip()\n",
    "    \n",
    "    data_new = data_new.append(dic_new, ignore_index=True)\n",
    "data_new.to_csv('D:\\\\FreeLancer projects\\\\LinkDin Scraping\\\\Final.csv')"
   ]
  },
  {
   "cell_type": "code",
   "execution_count": null,
   "metadata": {},
   "outputs": [],
   "source": []
  },
  {
   "cell_type": "code",
   "execution_count": null,
   "metadata": {},
   "outputs": [],
   "source": []
  },
  {
   "cell_type": "code",
   "execution_count": null,
   "metadata": {},
   "outputs": [],
   "source": []
  },
  {
   "cell_type": "code",
   "execution_count": null,
   "metadata": {},
   "outputs": [],
   "source": []
  },
  {
   "cell_type": "code",
   "execution_count": null,
   "metadata": {},
   "outputs": [],
   "source": []
  },
  {
   "cell_type": "code",
   "execution_count": null,
   "metadata": {},
   "outputs": [],
   "source": []
  }
 ],
 "metadata": {
  "kernelspec": {
   "display_name": "Python 3",
   "language": "python",
   "name": "python3"
  },
  "language_info": {
   "codemirror_mode": {
    "name": "ipython",
    "version": 3
   },
   "file_extension": ".py",
   "mimetype": "text/x-python",
   "name": "python",
   "nbconvert_exporter": "python",
   "pygments_lexer": "ipython3",
   "version": "3.6.10"
  }
 },
 "nbformat": 4,
 "nbformat_minor": 4
}
